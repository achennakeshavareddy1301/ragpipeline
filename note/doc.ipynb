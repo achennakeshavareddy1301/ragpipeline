{
 "cells": [
  {
   "cell_type": "code",
   "execution_count": 45,
   "id": "75d7ba9c",
   "metadata": {},
   "outputs": [],
   "source": [
    "from langchain_core.documents import Document"
   ]
  },
  {
   "cell_type": "code",
   "execution_count": 46,
   "id": "fdfd7cf9",
   "metadata": {},
   "outputs": [
    {
     "data": {
      "text/plain": [
       "Document(metadata={'source': 'exmaple.txt', 'pages': 1, 'author': 'Krish Naik', 'date_created': '2025-01-01'}, page_content='this is the main text content I am using to create RAG')"
      ]
     },
     "execution_count": 46,
     "metadata": {},
     "output_type": "execute_result"
    }
   ],
   "source": [
    "doc=Document(\n",
    "    page_content=\"this is the main text content I am using to create RAG\",\n",
    "    metadata={\n",
    "        \"source\":\"exmaple.txt\",\n",
    "        \"pages\":1,\n",
    "        \"author\":\"Krish Naik\",\n",
    "        \"date_created\":\"2025-01-01\"\n",
    "    }\n",
    ")\n",
    "doc"
   ]
  },
  {
   "cell_type": "code",
   "execution_count": 47,
   "id": "bab61553",
   "metadata": {},
   "outputs": [],
   "source": [
    "## Create a simple txt file\n",
    "import os\n",
    "os.makedirs(\"../data/text_files\",exist_ok=True)"
   ]
  },
  {
   "cell_type": "code",
   "execution_count": 48,
   "id": "292782ce",
   "metadata": {},
   "outputs": [
    {
     "name": "stdout",
     "output_type": "stream",
     "text": [
      "✅ Sample text files created!\n"
     ]
    }
   ],
   "source": [
    "sample_texts={\n",
    "    \"../data/text_files/python_intro.txt\":\"\"\"Python Programming Introduction\n",
    "\n",
    "Python is a high-level, interpreted programming language known for its simplicity and readability.\n",
    "Created by Guido van Rossum and first released in 1991, Python has become one of the most popular\n",
    "programming languages in the world.\n",
    "\n",
    "Key Features:\n",
    "- Easy to learn and use\n",
    "- Extensive standard library\n",
    "- Cross-platform compatibility\n",
    "- Strong community support\n",
    "\n",
    "Python is widely used in web development, data science, artificial intelligence, and automation.\"\"\",\n",
    "    \n",
    "    \"../data/text_files/machine_learning.txt\": \"\"\"Machine Learning Basics\n",
    "\n",
    "Machine learning is a subset of artificial intelligence that enables systems to learn and improve\n",
    "from experience without being explicitly programmed. It focuses on developing computer programs\n",
    "that can access data and use it to learn for themselves.\n",
    "\n",
    "Types of Machine Learning:\n",
    "1. Supervised Learning: Learning with labeled data\n",
    "2. Unsupervised Learning: Finding patterns in unlabeled data\n",
    "3. Reinforcement Learning: Learning through rewards and penalties\n",
    "\n",
    "Applications include image recognition, speech processing, and recommendation systems\n",
    "    \n",
    "    \n",
    "    \"\"\"\n",
    "\n",
    "}\n",
    "\n",
    "for filepath,content in sample_texts.items():\n",
    "    with open(filepath,'w',encoding=\"utf-8\") as f:\n",
    "        f.write(content)\n",
    "\n",
    "print(\"✅ Sample text files created!\")"
   ]
  },
  {
   "cell_type": "code",
   "execution_count": 49,
   "id": "4cca9083",
   "metadata": {},
   "outputs": [
    {
     "name": "stdout",
     "output_type": "stream",
     "text": [
      "[Document(metadata={'source': '../data/text_files/python_intro.txt'}, page_content='Python Programming Introduction\\n\\nPython is a high-level, interpreted programming language known for its simplicity and readability.\\nCreated by Guido van Rossum and first released in 1991, Python has become one of the most popular\\nprogramming languages in the world.\\n\\nKey Features:\\n- Easy to learn and use\\n- Extensive standard library\\n- Cross-platform compatibility\\n- Strong community support\\n\\nPython is widely used in web development, data science, artificial intelligence, and automation.')]\n"
     ]
    }
   ],
   "source": [
    "\n",
    "from langchain.document_loaders import TextLoader\n",
    "\n",
    "from langchain_community.document_loaders import TextLoader\n",
    "\n",
    "loader=TextLoader(\"../data/text_files/python_intro.txt\",encoding=\"utf-8\")\n",
    "document=loader.load()\n",
    "print(document)"
   ]
  },
  {
   "cell_type": "code",
   "execution_count": 51,
   "id": "5865ce26",
   "metadata": {},
   "outputs": [
    {
     "data": {
      "text/plain": [
       "[Document(metadata={'source': '..\\\\data\\\\text_files\\\\machine_learning.txt'}, page_content='Machine Learning Basics\\n\\nMachine learning is a subset of artificial intelligence that enables systems to learn and improve\\nfrom experience without being explicitly programmed. It focuses on developing computer programs\\nthat can access data and use it to learn for themselves.\\n\\nTypes of Machine Learning:\\n1. Supervised Learning: Learning with labeled data\\n2. Unsupervised Learning: Finding patterns in unlabeled data\\n3. Reinforcement Learning: Learning through rewards and penalties\\n\\nApplications include image recognition, speech processing, and recommendation systems\\n\\n\\n    '),\n",
       " Document(metadata={'source': '..\\\\data\\\\text_files\\\\python_intro.txt'}, page_content='Python Programming Introduction\\n\\nPython is a high-level, interpreted programming language known for its simplicity and readability.\\nCreated by Guido van Rossum and first released in 1991, Python has become one of the most popular\\nprogramming languages in the world.\\n\\nKey Features:\\n- Easy to learn and use\\n- Extensive standard library\\n- Cross-platform compatibility\\n- Strong community support\\n\\nPython is widely used in web development, data science, artificial intelligence, and automation.')]"
      ]
     },
     "execution_count": 51,
     "metadata": {},
     "output_type": "execute_result"
    }
   ],
   "source": [
    "from langchain_community.document_loaders import DirectoryLoader\n",
    "\n",
    "## load all the text files from the directory\n",
    "dir_loader=DirectoryLoader(\n",
    "    \"../data/text_files\",\n",
    "    glob=\"**/*.txt\", ## Pattern to match files  \n",
    "    loader_cls= TextLoader, ##loader class to use\n",
    "    loader_kwargs={'encoding': 'utf-8'},\n",
    "    show_progress=False\n",
    "\n",
    ")\n",
    "\n",
    "documents=dir_loader.load()\n",
    "documents"
   ]
  },
  {
   "cell_type": "code",
   "execution_count": 50,
   "id": "988750e2",
   "metadata": {},
   "outputs": [
    {
     "data": {
      "text/plain": [
       "[Document(metadata={'producer': 'Skia/PDF m138', 'creator': 'Mozilla/5.0 (Windows NT 10.0; Win64; x64) AppleWebKit/537.36 (KHTML, like Gecko) Chrome/138.0.0.0 Safari/537.36', 'creationdate': '2025-07-29T05:09:41+00:00', 'source': '..\\\\data\\\\pdf\\\\SkinGPT_ AI-Powered Skin Disease Medication Report Generator - Google Docs.pdf', 'file_path': '..\\\\data\\\\pdf\\\\SkinGPT_ AI-Powered Skin Disease Medication Report Generator - Google Docs.pdf', 'total_pages': 6, 'format': 'PDF 1.4', 'title': 'SkinGPT: AI-Powered Skin Disease Medication Report Generator - Google Docs', 'author': '', 'subject': '', 'keywords': '', 'moddate': '2025-07-29T05:09:41+00:00', 'trapped': '', 'modDate': \"D:20250729050941+00'00'\", 'creationDate': \"D:20250729050941+00'00'\", 'page': 0}, page_content='\\u202dSkinGPT: AI-Powered Skin Disease\\u202c\\n\\u202dMedication Report Generator\\u202c\\n\\u202dSIGN:\\u202c'),\n",
       " Document(metadata={'producer': 'Skia/PDF m138', 'creator': 'Mozilla/5.0 (Windows NT 10.0; Win64; x64) AppleWebKit/537.36 (KHTML, like Gecko) Chrome/138.0.0.0 Safari/537.36', 'creationdate': '2025-07-29T05:09:41+00:00', 'source': '..\\\\data\\\\pdf\\\\SkinGPT_ AI-Powered Skin Disease Medication Report Generator - Google Docs.pdf', 'file_path': '..\\\\data\\\\pdf\\\\SkinGPT_ AI-Powered Skin Disease Medication Report Generator - Google Docs.pdf', 'total_pages': 6, 'format': 'PDF 1.4', 'title': 'SkinGPT: AI-Powered Skin Disease Medication Report Generator - Google Docs', 'author': '', 'subject': '', 'keywords': '', 'moddate': '2025-07-29T05:09:41+00:00', 'trapped': '', 'modDate': \"D:20250729050941+00'00'\", 'creationDate': \"D:20250729050941+00'00'\", 'page': 1}, page_content='\\u202d2. Introduction\\u202c\\n\\u202dSkinGPT is an innovative AI-powered system that transforms dermatological care by\\u202c\\n\\u202dcombining computer vision and natural language processing technologies. This\\u202c\\n\\u202dplatform analyzes skin conditions and generates comprehensive medication reports,\\u202c\\n\\u202daddressing the critical need for standardized, efficient diagnostic tools in dermatology.\\u202c\\n\\u202dThe system processes both visual data from skin images and textual information from\\u202c\\n\\u202dpatient histories, providing healthcare providers with detailed, evidence-based treatment\\u202c\\n\\u202drecommendations that improve patient outcomes and streamline clinical workflows.\\u202c\\n\\u202d3. Problem Statement\\u202c\\n\\u202dThe dermatological healthcare sector faces several critical challenges:\\u202c\\n\\u202dDiagnostic Complexity: Skin diseases often present with overlapping symptoms and\\u202c\\n\\u202dsimilar visual manifestations, creating diagnostic ambiguities that can lead to\\u202c\\n\\u202dmisdiagnosis or delayed treatmen.\\u202c\\n\\u202dTime-Consuming Documentation: Manual creation of medication reports and patient\\u202c\\n\\u202ddocumentation is laborious for dermatologists, reducing time available for direct patient\\u202c\\n\\u202dcare.\\u202c\\n\\u202dTreatment Inconsistency: Variability in treatment recommendations across different\\u202c\\n\\u202dhealthcare providers impacts patient outcomes and recovery times.\\u202c\\n\\u202dLimited Specialist Access: Many patients in remote areas lack access to dermatological\\u202c\\n\\u202dspecialists, leading to delayed diagnoses and suboptimal treatment outcomes.\\u202c'),\n",
       " Document(metadata={'producer': 'Skia/PDF m138', 'creator': 'Mozilla/5.0 (Windows NT 10.0; Win64; x64) AppleWebKit/537.36 (KHTML, like Gecko) Chrome/138.0.0.0 Safari/537.36', 'creationdate': '2025-07-29T05:09:41+00:00', 'source': '..\\\\data\\\\pdf\\\\SkinGPT_ AI-Powered Skin Disease Medication Report Generator - Google Docs.pdf', 'file_path': '..\\\\data\\\\pdf\\\\SkinGPT_ AI-Powered Skin Disease Medication Report Generator - Google Docs.pdf', 'total_pages': 6, 'format': 'PDF 1.4', 'title': 'SkinGPT: AI-Powered Skin Disease Medication Report Generator - Google Docs', 'author': '', 'subject': '', 'keywords': '', 'moddate': '2025-07-29T05:09:41+00:00', 'trapped': '', 'modDate': \"D:20250729050941+00'00'\", 'creationDate': \"D:20250729050941+00'00'\", 'page': 2}, page_content='\\u202d4. Objectives\\u202c\\n\\u202dSkinGPT aims to achieve the following key objectives:\\u202c\\n\\u202dAccelerate Diagnosis: Streamline identification and classification of skin conditions\\u202c\\n\\u202dthrough advanced AI algorithms that rapidly analyze skin images and patient data.\\u202c\\n\\u202dAutomate Report Generation: Generate comprehensive, detailed medication reports\\u202c\\n\\u202defficiently with treatment recommendations, dosage information, and follow-up\\u202c\\n\\u202dguidelines.\\u202c\\n\\u202dOptimize Treatment Protocols: Provide evidence-based, consistent medication\\u202c\\n\\u202drecommendations aligned with current dermatological best practices.\\u202c\\n\\u202dEnhance Healthcare Accessibility: Bridge the gap between patients and specialized care\\u202c\\n\\u202dby providing AI-powered diagnostic capabilities accessible remotely.\\u202c\\n\\u202d5. Proposed Methodology\\u202c\\n\\u202dSkinGPT employs a multi-stage methodology integrating advanced AI technologies:\\u202c\\n\\u202dMultimodal Input Processing: The system accepts skin images and textual data (patient\\u202c\\n\\u202dsymptoms, medical history, clinical observations) with advanced preprocessing for\\u202c\\n\\u202dquality optimization.\\u202c'),\n",
       " Document(metadata={'producer': 'Skia/PDF m138', 'creator': 'Mozilla/5.0 (Windows NT 10.0; Win64; x64) AppleWebKit/537.36 (KHTML, like Gecko) Chrome/138.0.0.0 Safari/537.36', 'creationdate': '2025-07-29T05:09:41+00:00', 'source': '..\\\\data\\\\pdf\\\\SkinGPT_ AI-Powered Skin Disease Medication Report Generator - Google Docs.pdf', 'file_path': '..\\\\data\\\\pdf\\\\SkinGPT_ AI-Powered Skin Disease Medication Report Generator - Google Docs.pdf', 'total_pages': 6, 'format': 'PDF 1.4', 'title': 'SkinGPT: AI-Powered Skin Disease Medication Report Generator - Google Docs', 'author': '', 'subject': '', 'keywords': '', 'moddate': '2025-07-29T05:09:41+00:00', 'trapped': '', 'modDate': \"D:20250729050941+00'00'\", 'creationDate': \"D:20250729050941+00'00'\", 'page': 3}, page_content='\\u202dAI-Powered Analysis: Computer vision models trained on dermatological datasets\\u202c\\n\\u202didentify skin lesions and classify conditions, while NLP algorithms analyze textual\\u202c\\n\\u202dinputs for clinical correlation.\\u202c\\n\\u202dReport Generation: Large language models fine-tuned for medical applications generate\\u202c\\n\\u202dcomprehensive medication reports with validation mechanisms ensuring clinical\\u202c\\n\\u202daccuracy.\\u202c\\n\\u202d6. Expected Outcomes\\u202c\\n\\u202dImproved Diagnostic Accuracy: Enhanced precision in skin disease identification\\u202c\\n\\u202dleading to more effective treatments.\\u202c\\n\\u202dEnhanced Clinical Efficiency: Reduced administrative burden through automated report\\u202c\\n\\u202dgeneration, allowing more time for patient care.\\u202c\\n\\u202dBetter Patient Experience: Faster diagnosis delivery, personalized treatment plans, and\\u202c\\n\\u202dconsistent care quality.\\u202c\\n\\u202dStandardized Care Quality: Evidence-based treatment protocols reducing variability\\u202c\\n\\u202dacross healthcare settings.\\u202c\\n\\u202d7. Tools and Technologies to be Used\\u202c\\n\\u202dLarge Language Models: Lama3,clinical-specific transformers for medical text analysis\\u202c\\n\\u202dand report generation.\\u202c\\n\\u202dComputer Vision: CNNs, Vision Transformers, and medical imaging models for image\\u202c\\n\\u202drecognition and skin condition classification.\\u202c'),\n",
       " Document(metadata={'producer': 'Skia/PDF m138', 'creator': 'Mozilla/5.0 (Windows NT 10.0; Win64; x64) AppleWebKit/537.36 (KHTML, like Gecko) Chrome/138.0.0.0 Safari/537.36', 'creationdate': '2025-07-29T05:09:41+00:00', 'source': '..\\\\data\\\\pdf\\\\SkinGPT_ AI-Powered Skin Disease Medication Report Generator - Google Docs.pdf', 'file_path': '..\\\\data\\\\pdf\\\\SkinGPT_ AI-Powered Skin Disease Medication Report Generator - Google Docs.pdf', 'total_pages': 6, 'format': 'PDF 1.4', 'title': 'SkinGPT: AI-Powered Skin Disease Medication Report Generator - Google Docs', 'author': '', 'subject': '', 'keywords': '', 'moddate': '2025-07-29T05:09:41+00:00', 'trapped': '', 'modDate': \"D:20250729050941+00'00'\", 'creationDate': \"D:20250729050941+00'00'\", 'page': 4}, page_content='\\u202dMedical Datasets: A datasets contains 30k skin diseases images\\u202c\\n\\u202dDevelopment Frameworks: PyTorch, TensorFlow, Hugging Face Transformers for\\u202c\\n\\u202defficient AI development.\\u202c\\n\\u202d8. Project Timeline\\u202c\\n\\u202dQ1: Research & Planning\\u202c\\n\\u202d●\\u202c \\u202dFeasibility study and literature review\\u202c\\n\\u202d●\\u202c \\u202dTeam assembly and technology selection\\u202c\\n\\u202d●\\u202c \\u202dDataset identification and regulatory planning\\u202c\\n\\u202dQ2: Model Development\\u202c\\n\\u202d●\\u202c \\u202dAlgorithm design and dataset curation\\u202c\\n\\u202d●\\u202c \\u202dInitial model training and testing\\u202c\\n\\u202d●\\u202c \\u202dSafety protocol implementation\\u202c\\n\\u202dQ3: Integration & Testing\\u202c\\n\\u202d●\\u202c \\u202dSystem integration and API development\\u202c\\n\\u202d●\\u202c \\u202dComprehensive testing and validation\\u202c\\n\\u202d●\\u202c \\u202dUser interface development\\u202c\\n\\u202d9)References\\u202c\\n\\u202d1)\"IEEE Transactions on Medical Imaging (IEEE TMI)\" - Unsupervised medical\\u202c\\n\\u202dimage translation with adversarial methods. Available at:\\u202c\\n\\u202dhttps://scispace.com/papers/unsupervised-medical-image-translation-with-adver\\u202c\\n\\u202dsarial-25rw4akp\\u202c\\n\\u202d2)\"Skin and Syntax: Large Language Models in Dermatopathology.\"\\u202c\\n\\u202dResearchGate. Available at:\\u202c\\n\\u202dhttps://www.researchgate.net/publication/378230148_Skin_and_Syntax_Large_L\\u202c\\n\\u202danguage_Models_in_Dermatopathology\\u202c'),\n",
       " Document(metadata={'producer': 'Skia/PDF m138', 'creator': 'Mozilla/5.0 (Windows NT 10.0; Win64; x64) AppleWebKit/537.36 (KHTML, like Gecko) Chrome/138.0.0.0 Safari/537.36', 'creationdate': '2025-07-29T05:09:41+00:00', 'source': '..\\\\data\\\\pdf\\\\SkinGPT_ AI-Powered Skin Disease Medication Report Generator - Google Docs.pdf', 'file_path': '..\\\\data\\\\pdf\\\\SkinGPT_ AI-Powered Skin Disease Medication Report Generator - Google Docs.pdf', 'total_pages': 6, 'format': 'PDF 1.4', 'title': 'SkinGPT: AI-Powered Skin Disease Medication Report Generator - Google Docs', 'author': '', 'subject': '', 'keywords': '', 'moddate': '2025-07-29T05:09:41+00:00', 'trapped': '', 'modDate': \"D:20250729050941+00'00'\", 'creationDate': \"D:20250729050941+00'00'\", 'page': 5}, page_content='\\u202d3)\"The application of large language models in medicine.\" ScienceDirect.\\u202c\\n\\u202dAvailable at:\\u202c\\n\\u202dhttps://www.sciencedirect.com/science/article/pii/S2589004224009350\\u202c\\n\\u202d4)\"Challenges and barriers of using large language models (LLM).\" Diagnostic\\u202c\\n\\u202dPathology. Available at:\\u202c\\n\\u202dhttps://diagnosticpathology.biomedcentral.com/articles/10.1186/s13000-024-01\\u202c\\n\\u202d464-7\\u202c\\n\\u202d5)\"Exploring the Role of Large Language Models in Melanoma.\" MDPI Journal of\\u202c\\n\\u202dClinical Medicine. Available at:\\u202c\\u202dhttps://www.mdpi.com/2077-0383/13/23/7480\\u202c\\n\\u202d6)\"Pre-trained multimodal large language model enhances dermatological\\u202c\\n\\u202ddiagnosis using SkinGPT-4.\" Nature Communications. Available at:\\u202c\\n\\u202dhttps://www.nature.com/articles/s41467-024-50043-3\\u202c\\n\\u202d7)\"MED-Prompt: Specialized prompt frameworks for medical data.\" Saudi Journal\\u202c\\n\\u202dof Biological Sciences. Available at:\\u202c\\n\\u202dhttps://www.sciencedirect.com/science/article/pii/S1319157824000223\\u202c\\n\\u202d8)Cao, et al. \"MADTP: Multimodal Alignment-Guided Dynamic Token Pruning for\\u202c\\n\\u202dAccelerating Vision-Language Transformer.\" CVPR 2024. Available at:\\u202c\\n\\u202dhttps://openaccess.thecvf.com/content/CVPR2024/papers/Cao_MADTP_Multim\\u202c\\n\\u202dodal_Alignment-Guided_Dynamic_Token_Pruning_for_Accelerating_Vision-Langu\\u202c\\n\\u202dage_Transformer_CVPR_2024_paper.pdf\\u202c')]"
      ]
     },
     "execution_count": 50,
     "metadata": {},
     "output_type": "execute_result"
    }
   ],
   "source": [
    "from langchain_community.document_loaders import PyPDFLoader, PyMuPDFLoader\n",
    "\n",
    "## load all the text files from the directory\n",
    "dir_loader=DirectoryLoader(\n",
    "    \"../data/pdf\",\n",
    "    glob=\"**/*.pdf\", ## Pattern to match files  \n",
    "    loader_cls= PyMuPDFLoader, ##loader class to use\n",
    "    show_progress=False\n",
    "\n",
    ")\n",
    "\n",
    "pdf_documents=dir_loader.load()\n",
    "pdf_documents"
   ]
  },
  {
   "cell_type": "code",
   "execution_count": 52,
   "id": "1c26db76",
   "metadata": {},
   "outputs": [
    {
     "data": {
      "text/plain": [
       "langchain_core.documents.base.Document"
      ]
     },
     "execution_count": 52,
     "metadata": {},
     "output_type": "execute_result"
    }
   ],
   "source": [
    "type(pdf_documents[0])"
   ]
  },
  {
   "cell_type": "code",
   "execution_count": 53,
   "id": "be7fca25",
   "metadata": {},
   "outputs": [],
   "source": [
    "import numpy as np\n",
    "from sentence_transformers import SentenceTransformer\n",
    "import chromadb\n",
    "from chromadb.config import Settings\n",
    "import uuid\n",
    "from typing import List,Dict,Any,Tuple\n",
    "from sklearn.metrics.pairwise import cosine_similarity\n"
   ]
  },
  {
   "cell_type": "code",
   "execution_count": 54,
   "id": "8cf31e85",
   "metadata": {},
   "outputs": [
    {
     "name": "stdout",
     "output_type": "stream",
     "text": [
      "✅ Model all-MiniLM-L6-v2 loaded successfully!\n"
     ]
    },
    {
     "data": {
      "text/plain": [
       "<__main__.EmbeddingsManger at 0x228666895e0>"
      ]
     },
     "execution_count": 54,
     "metadata": {},
     "output_type": "execute_result"
    }
   ],
   "source": [
    "class EmbeddingsManger:\n",
    "    def __init__(self,model_name:str=\"all-MiniLM-L6-v2\"):\n",
    "        self.model_name=model_name\n",
    "        self.model=None\n",
    "        self._load_model()\n",
    "    def _load_model(self):\n",
    "        try:\n",
    "            self.model=SentenceTransformer(self.model_name)\n",
    "            print(f\"✅ Model {self.model_name} loaded successfully!\")\n",
    "        except Exception as e:\n",
    "            print(f\"❌ Error loading model {self.model_name}: {e}\")\n",
    "    def get_embeddings(self,texts:List[str])->np.ndarray:\n",
    "        if not self.model:\n",
    "            raise ValueError(\"Model is not loaded.\")\n",
    "        embeddings=self.model.encode(texts,show_progress_bar=True)\n",
    "        return embeddings\n",
    "embeding=EmbeddingsManger()\n",
    "embeding"
   ]
  },
  {
   "cell_type": "code",
   "execution_count": 55,
   "id": "64a7d01b",
   "metadata": {},
   "outputs": [
    {
     "name": "stdout",
     "output_type": "stream",
     "text": [
      "✅ Vector store my_collection initialized successfully!\n"
     ]
    },
    {
     "data": {
      "text/plain": [
       "<__main__.SimpleVectorStore at 0x2280e9b56d0>"
      ]
     },
     "execution_count": 55,
     "metadata": {},
     "output_type": "execute_result"
    }
   ],
   "source": [
    "class SimpleVectorStore:\n",
    "    def __init__(self,collection_name:str=\"my_collection\",persist_directory:str=\"../data/vector_db\"):\n",
    "        self.collection_name=collection_name\n",
    "        self.persist_directory=persist_directory\n",
    "        self.client=None\n",
    "        self.collection=None\n",
    "        self._initialize_store()\n",
    "    def _initialize_store(self):\n",
    "        try:\n",
    "            os.makedirs(self.persist_directory,exist_ok=True)\n",
    "            self.client=chromadb.PersistentClient(\n",
    "                path=self.persist_directory)\n",
    "            self.collection=self.client.get_or_create_collection(\n",
    "                name=self.collection_name,\n",
    "                metadata={\"description\":\"A simple vector store\"}\n",
    "            )\n",
    "            print(f\"✅ Vector store {self.collection_name} initialized successfully!\")\n",
    "        except Exception as e:\n",
    "            print(f\"❌ Error initializing vector store {self.collection_name}: {e}\")\n",
    "    def add_documents(self,documents:List[Any],embeddings:np.ndarray):\n",
    "        if not self.collection:\n",
    "            raise ValueError(\"Collection is not initialized.\")\n",
    "        if len(documents)!=len(embeddings):\n",
    "            raise ValueError(\"Number of documents and embeddings must be the same.\")\n",
    "        ids=[]\n",
    "        metadatas=[]  \n",
    "        doc_test=[]\n",
    "        emmbeddings_list=[]\n",
    "        for i,(doc,embeddings) in enumerate(zip(documents,embeddings)):\n",
    "            docids=f\"doc_{uuid.uuid4().hex[:8]}_{i}\"\n",
    "            ids.append(docids)\n",
    "            metadata=dict(doc.metadata)\n",
    "            metadata['doc_index'] = i\n",
    "            metadatas.append(metadata)\n",
    "            doc_test.append(doc.page_content)\n",
    "            emmbeddings_list.append(embeddings.tolist())\n",
    "        try:\n",
    "            self.collection.add(\n",
    "                ids=ids,\n",
    "                metadatas=metadatas,\n",
    "                documents=doc_test,\n",
    "                embeddings=emmbeddings_list\n",
    "            )\n",
    "            print(f\"✅ Added {len(documents)} documents to the vector store.\")\n",
    "        except Exception as e:\n",
    "            print(f\"❌ Error adding documents to the vector store: {e}\")\n",
    "            raise \n",
    "vectorstore=SimpleVectorStore()\n",
    "vectorstore"
   ]
  },
  {
   "cell_type": "code",
   "execution_count": 56,
   "id": "0e091ec4",
   "metadata": {},
   "outputs": [
    {
     "name": "stdout",
     "output_type": "stream",
     "text": [
      "✅ Model all-MiniLM-L6-v2 loaded successfully!\n"
     ]
    },
    {
     "name": "stderr",
     "output_type": "stream",
     "text": [
      "Batches: 100%|██████████| 1/1 [00:00<00:00, 16.05it/s]"
     ]
    },
    {
     "name": "stdout",
     "output_type": "stream",
     "text": [
      "✅ Added 2 documents to the vector store.\n"
     ]
    },
    {
     "name": "stderr",
     "output_type": "stream",
     "text": [
      "\n"
     ]
    }
   ],
   "source": [
    "texts=[doc.page_content for doc in documents]\n",
    "embedings=EmbeddingsManger().get_embeddings(texts)\n",
    "vectorstore.add_documents(documents,embedings)\n",
    "\n"
   ]
  },
  {
   "cell_type": "code",
   "execution_count": 57,
   "id": "2db92161",
   "metadata": {},
   "outputs": [
    {
     "data": {
      "text/plain": [
       "<__main__.RAGRetriver at 0x2280e941880>"
      ]
     },
     "execution_count": 57,
     "metadata": {},
     "output_type": "execute_result"
    }
   ],
   "source": [
    "class RAGRetriver:\n",
    "    def __init__(self,vector_store:SimpleVectorStore,embeddings_manager:EmbeddingsManger):\n",
    "        self.vector_store=vector_store\n",
    "        self.embeddings_manager=embeddings_manager\n",
    "    def retrieve(self,query:str,top_k:int=3,score_threshold:float=0.0)->List[Dict[str,Any]]:\n",
    "        query_embedding=self.embeddings_manager.get_embeddings([query])[0]\n",
    "        try:\n",
    "            results=self.vector_store.collection.query(\n",
    "                query_embeddings=[query_embedding.tolist()],\n",
    "                n_results=top_k,\n",
    "            )\n",
    "            retrived_docs=[]\n",
    "            if results['documents'] and results['documents'][0]:\n",
    "                documents=results['documents'][0]\n",
    "                metadatas=results['metadatas'][0]\n",
    "                distances=results['distances'][0]\n",
    "                for i,(doc_id,document,metadata,distances) in enumerate(zip(results['ids'][0],documents,metadatas,distances)):\n",
    "                    score=1 - distances\n",
    "                    if score>=score_threshold:\n",
    "                        retrived_docs.append({\n",
    "                            \"id\":doc_id,\n",
    "                            \"document\":document,\n",
    "                            \"metadata\":metadata,\n",
    "                            \"score\":score,\n",
    "                            \"distance\":distances,\n",
    "                            \"rank\":i+1\n",
    "                        })\n",
    "                print(f\"✅ Retrieved {len(retrived_docs)}\")\n",
    "                      \n",
    "            else:\n",
    "                print(\"⚠️ No documents found.\")\n",
    "            return retrived_docs\n",
    "        except Exception as e:\n",
    "            print(f\"❌ Error during retrieval: {e}\")\n",
    "            return []\n",
    "ragretriver=RAGRetriver(vectorstore,embeding)\n",
    "ragretriver\n",
    "\n",
    "            \n",
    "\n",
    "                        \n",
    "\n",
    "\n"
   ]
  },
  {
   "cell_type": "code",
   "execution_count": 59,
   "id": "1eaf5450",
   "metadata": {},
   "outputs": [
    {
     "name": "stderr",
     "output_type": "stream",
     "text": [
      "Batches: 100%|██████████| 1/1 [00:00<00:00, 58.82it/s]"
     ]
    },
    {
     "name": "stdout",
     "output_type": "stream",
     "text": [
      "✅ Retrieved 2\n"
     ]
    },
    {
     "name": "stderr",
     "output_type": "stream",
     "text": [
      "\n"
     ]
    },
    {
     "data": {
      "text/plain": [
       "[{'id': 'doc_86fec92c_0',\n",
       "  'document': 'Machine Learning Basics\\n\\nMachine learning is a subset of artificial intelligence that enables systems to learn and improve\\nfrom experience without being explicitly programmed. It focuses on developing computer programs\\nthat can access data and use it to learn for themselves.\\n\\nTypes of Machine Learning:\\n1. Supervised Learning: Learning with labeled data\\n2. Unsupervised Learning: Finding patterns in unlabeled data\\n3. Reinforcement Learning: Learning through rewards and penalties\\n\\nApplications include image recognition, speech processing, and recommendation systems\\n\\n\\n    ',\n",
       "  'metadata': {'doc_index': 0,\n",
       "   'source': '..\\\\data\\\\text_files\\\\machine_learning.txt'},\n",
       "  'score': 0.15277695655822754,\n",
       "  'distance': 0.8472230434417725,\n",
       "  'rank': 1},\n",
       " {'id': 'doc_b8618a23_0',\n",
       "  'document': 'Machine Learning Basics\\n\\nMachine learning is a subset of artificial intelligence that enables systems to learn and improve\\nfrom experience without being explicitly programmed. It focuses on developing computer programs\\nthat can access data and use it to learn for themselves.\\n\\nTypes of Machine Learning:\\n1. Supervised Learning: Learning with labeled data\\n2. Unsupervised Learning: Finding patterns in unlabeled data\\n3. Reinforcement Learning: Learning through rewards and penalties\\n\\nApplications include image recognition, speech processing, and recommendation systems\\n\\n\\n    ',\n",
       "  'metadata': {'doc_index': 0,\n",
       "   'source': '..\\\\data\\\\text_files\\\\machine_learning.txt'},\n",
       "  'score': 0.15277695655822754,\n",
       "  'distance': 0.8472230434417725,\n",
       "  'rank': 2}]"
      ]
     },
     "execution_count": 59,
     "metadata": {},
     "output_type": "execute_result"
    }
   ],
   "source": [
    "ragretriver.retrieve(\"what is machinelearning\",top_k=2,score_threshold=0.1)"
   ]
  },
  {
   "cell_type": "code",
   "execution_count": null,
   "id": "d14c6856",
   "metadata": {},
   "outputs": [],
   "source": []
  }
 ],
 "metadata": {
  "kernelspec": {
   "display_name": ".venv",
   "language": "python",
   "name": "python3"
  },
  "language_info": {
   "codemirror_mode": {
    "name": "ipython",
    "version": 3
   },
   "file_extension": ".py",
   "mimetype": "text/x-python",
   "name": "python",
   "nbconvert_exporter": "python",
   "pygments_lexer": "ipython3",
   "version": "3.12.10"
  }
 },
 "nbformat": 4,
 "nbformat_minor": 5
}
